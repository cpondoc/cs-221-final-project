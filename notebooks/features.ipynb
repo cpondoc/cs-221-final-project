{
 "cells": [
  {
   "cell_type": "markdown",
   "id": "688a280b",
   "metadata": {},
   "source": [
    "# CS 221 Project - Text Features\n",
    "Extracting the pertinent text features from the dataset to be used for classifying text."
   ]
  },
  {
   "cell_type": "markdown",
   "id": "76c7259e",
   "metadata": {},
   "source": [
    "## Libraries\n",
    "Using NLTK for NLP-related parts."
   ]
  },
  {
   "cell_type": "code",
   "execution_count": 10,
   "id": "782943b2",
   "metadata": {},
   "outputs": [
    {
     "name": "stderr",
     "output_type": "stream",
     "text": [
      "[nltk_data] Downloading package punkt to /Users/cpondoc/nltk_data...\n",
      "[nltk_data]   Package punkt is already up-to-date!\n",
      "[nltk_data] Downloading package averaged_perceptron_tagger to\n",
      "[nltk_data]     /Users/cpondoc/nltk_data...\n",
      "[nltk_data]   Package averaged_perceptron_tagger is already up-to-\n",
      "[nltk_data]       date!\n",
      "[nltk_data] Downloading package wordnet to /Users/cpondoc/nltk_data...\n",
      "[nltk_data]   Package wordnet is already up-to-date!\n",
      "[nltk_data] Downloading package omw-1.4 to /Users/cpondoc/nltk_data...\n",
      "[nltk_data]   Package omw-1.4 is already up-to-date!\n"
     ]
    }
   ],
   "source": [
    "import math\n",
    "import matplotlib.pyplot as plt\n",
    "import nltk\n",
    "from nltk.tokenize import word_tokenize\n",
    "from nltk.stem.wordnet import WordNetLemmatizer\n",
    "nltk.download('punkt')\n",
    "nltk.download('averaged_perceptron_tagger')\n",
    "nltk.download('wordnet')\n",
    "nltk.download('omw-1.4')\n",
    "import numpy as np\n",
    "import pandas as pd\n",
    "from typing import Counter"
   ]
  },
  {
   "cell_type": "markdown",
   "id": "410d9355",
   "metadata": {},
   "source": [
    "## Constants\n",
    "For use in frequency distribution below."
   ]
  },
  {
   "cell_type": "code",
   "execution_count": 11,
   "id": "c30ea05f",
   "metadata": {},
   "outputs": [],
   "source": [
    "Penn_tags = [\"CC\",\"CD\", \"DT\", \"EX\", \"FW\", \"IN\", \"JJ\", \"JJR\", \"JJS\", \"LS\", \"MD\", \"NN\", \"NNS\", \"NNP\", \"NNPS\", \"PDT\", \"POS\", \"PRP\", \"PRP$\", \"RB\", \"RBR\", \"RBS\", \"RP\", \"TO\", \"UH\", \"VB\", \"VBG\", \"VBD\", \"VBN\", \"VBP\", \"VBZ\", \"WDT\", \"WP\", \"WRB\"]"
   ]
  },
  {
   "cell_type": "markdown",
   "id": "0acf901e",
   "metadata": {},
   "source": [
    "## Loading in Data\n",
    "Using the data from `final_data.csv`, which is generated from `histogram.ipynb`."
   ]
  },
  {
   "cell_type": "code",
   "execution_count": 12,
   "id": "728c3f35",
   "metadata": {},
   "outputs": [],
   "source": [
    "main_df = pd.read_csv('../data/percentile_data.csv')"
   ]
  },
  {
   "cell_type": "markdown",
   "id": "24ad53f6",
   "metadata": {},
   "source": [
    "## Features 1 and 2: Lexical Diversity and Length\n",
    "Calculating the lexical diversity of each document, which we define as: $\\frac{\\text{number of unique words}}{\\text{number of total words}}$. In addition, we define the number of words as a feature."
   ]
  },
  {
   "cell_type": "code",
   "execution_count": 13,
   "id": "a3b4efed",
   "metadata": {},
   "outputs": [],
   "source": [
    "# Data collection for later\n",
    "all_views = []\n",
    "all_lexical_div = []\n",
    "all_lengths = []\n",
    "\n",
    "# Iterate each row in the dataframe\n",
    "for index, row in main_df.iterrows():\n",
    "    # Calculate lexical diversity\n",
    "    words = word_tokenize(main_df.at[index, 'transcript'])\n",
    "    lexical_div = float((len(set(words))) / len(words))\n",
    "    \n",
    "    # Set appropriate columns equal\n",
    "    main_df.at[index, 'length'] = len(words)\n",
    "    main_df.at[index, 'diversity'] = lexical_div\n",
    "    \n",
    "    # Appending for future analysis\n",
    "    all_views.append(main_df.at[index, 'views'])\n",
    "    all_lexical_div.append(lexical_div)\n",
    "    all_lengths.append(len(words))"
   ]
  },
  {
   "cell_type": "markdown",
   "id": "12573b16",
   "metadata": {},
   "source": [
    "## Plotting above Features Against Views\n",
    "Plotting the features against views to see if they may be helpful in determining virality."
   ]
  },
  {
   "cell_type": "code",
   "execution_count": 14,
   "id": "ffb76186",
   "metadata": {},
   "outputs": [
    {
     "data": {
      "image/png": "[encoded data removed]",
      "text/plain": [
       "<Figure size 432x288 with 1 Axes>"
      ]
     },
     "metadata": {
      "needs_background": "light"
     },
     "output_type": "display_data"
    },
    {
     "data": {
      "image/png": "[encoded data removed]",
      "text/plain": [
       "<Figure size 432x288 with 1 Axes>"
      ]
     },
     "metadata": {
      "needs_background": "light"
     },
     "output_type": "display_data"
    }
   ],
   "source": [
    "# Graphing Lexical Diversity\n",
    "plt.title(\"Lexical Diversity vs. Number of Views\")\n",
    "plt.xlabel(\"Lexical Diversity (out of 1)\")\n",
    "plt.ylabel(\"Number of Views\")\n",
    "plt.scatter(all_lexical_div, all_views)\n",
    "plt.show()\n",
    "\n",
    "# Graphing Lengths\n",
    "plt.title(\"Lengths of TED Talks vs. Number of Views\")\n",
    "plt.xlabel(\"Lengths of TED Talks\")\n",
    "plt.ylabel(\"Number of Views\")\n",
    "plt.scatter(all_lengths, all_views)\n",
    "plt.show()"
   ]
  },
  {
   "cell_type": "markdown",
   "id": "459504fe",
   "metadata": {},
   "source": [
    "## Function to Calculate Average Word Length\n",
    "Utility function to help calculate average word length."
   ]
  },
  {
   "cell_type": "code",
   "execution_count": 15,
   "id": "f0ed7e82",
   "metadata": {},
   "outputs": [],
   "source": [
    "def average_word_length(transcript):\n",
    "    # Tokneize the transcript\n",
    "    words = word_tokenize(transcript)\n",
    "    sum_words = 0\n",
    "    \n",
    "    # Calculate sum and append average\n",
    "    for word in transcript:\n",
    "        sum_words += len(word)\n",
    "    return (sum_words / len(words))"
   ]
  },
  {
   "cell_type": "markdown",
   "id": "0c30dca8",
   "metadata": {},
   "source": [
    "## Feature 3: Average Word Length\n",
    "Below, we calculate average word length as a feature by visualizing of average word length against views and fitting a polynomial distribution. The predicted quantity is then saved as a feature."
   ]
  },
  {
   "cell_type": "code",
   "execution_count": 16,
   "id": "b8bcf4fd",
   "metadata": {},
   "outputs": [
    {
     "name": "stdout",
     "output_type": "stream",
     "text": [
      "Polynomial Distribution Parameters: \n",
      "[ -472467.89318331  3350484.31278707 -3465769.83555742]\n"
     ]
    },
    {
     "data": {
      "image/png": "[encoded data removed]",
      "text/plain": [
       "<Figure size 432x288 with 1 Axes>"
      ]
     },
     "metadata": {
      "needs_background": "light"
     },
     "output_type": "display_data"
    },
    {
     "name": "stdout",
     "output_type": "stream",
     "text": [
      "Minimum Predicted Virality 165777.19459976954\n",
      "Maximum Predicted Virality 2473672.8330126856\n"
     ]
    }
   ],
   "source": [
    "# Iterate through each transcript and calculate the average word length\n",
    "data_length = []\n",
    "for transcript in main_df['transcript']:\n",
    "    # Append average length\n",
    "    average = average_word_length(transcript)\n",
    "    data_length.append(average)\n",
    "    \n",
    "# Set proper data length and views\n",
    "data_length = np.array(data_length)\n",
    "data_views = main_df['views']\n",
    "\n",
    "# Plot the distribution of average word length against views.\n",
    "plt.title(\"Average Word Length vs. Number of Views\")\n",
    "plt.xlabel(\"Average Word Length\")\n",
    "plt.ylabel(\"Number of Views\")\n",
    "plt.scatter(data_length, data_views)\n",
    "\n",
    "# Finding the proper polynomial fit\n",
    "poly_fitter = np.polyfit(data_length, data_views, 2)\n",
    "print(\"Polynomial Distribution Parameters: \")\n",
    "print(poly_fitter)\n",
    "\n",
    "# Plotting and finding max and min predicted virality\n",
    "plt.plot(data_length, poly_fitter[0] * (data_length ** 2) + poly_fitter[1] * data_length + poly_fitter[2])\n",
    "plt.show()\n",
    "print(\"Minimum Predicted Virality\", min(poly_fitter[0] * (data_length ** 2) + poly_fitter[1] * data_length + poly_fitter[2]))\n",
    "print(\"Maximum Predicted Virality\", max(poly_fitter[0] * (data_length ** 2) + poly_fitter[1] * data_length + poly_fitter[2]))\n",
    "\n",
    "# Iterate each row in the dataframe\n",
    "for index, row in main_df.iterrows():\n",
    "    # Calculate virality and set corresponding column equal\n",
    "    average = average_word_length(main_df.at[index, 'transcript'])\n",
    "    virality = poly_fitter[0] * (average ** 2) + poly_fitter[1] * average + poly_fitter[2]\n",
    "    main_df.at[index, 'virality'] = virality"
   ]
  },
  {
   "cell_type": "markdown",
   "id": "e6129760",
   "metadata": {},
   "source": [
    "## Function to Extract Frequencies\n",
    "Use NLTK dependencies to calculate the most common nouns, adjectives, and other parts of speech."
   ]
  },
  {
   "cell_type": "code",
   "execution_count": 16,
   "id": "63d1b211",
   "metadata": {},
   "outputs": [],
   "source": [
    "def extract_frequencies(title, transcript):\n",
    "    # Create a dictionary that stores the relevant information for each type\n",
    "    tag_dictionary = {}\n",
    "    for tag in Penn_tags:\n",
    "        tag_dictionary[tag] = []\n",
    "    transcript_list = word_tokenize(transcript)\n",
    "    tagged_transcript_list = nltk.pos_tag(transcript_list)\n",
    "    for word_pairing in tagged_transcript_list:\n",
    "        if (\"'\" not in word_pairing[0]) and (word_pairing[1] != \"NNP\") and (word_pairing[1] != \"NNPS\"):\n",
    "            if word_pairing[1] in Penn_tags:\n",
    "                tag_dictionary[word_pairing[1]].append((word_pairing[0]).lower())\n",
    "\n",
    "    # Converting all the verbs to the same form\n",
    "    for word1 in tag_dictionary[\"VBD\"]:\n",
    "        new_word1 = WordNetLemmatizer().lemmatize(word1,'v')\n",
    "        tag_dictionary[\"VB\"].append(new_word1)\n",
    "    tag_dictionary.pop(\"VBD\")\n",
    "    for word2 in tag_dictionary[\"VBG\"]:\n",
    "        new_word2 = WordNetLemmatizer().lemmatize(word2,'v')\n",
    "        tag_dictionary[\"VB\"].append(new_word2)\n",
    "    tag_dictionary.pop(\"VBG\")\n",
    "    for word3 in tag_dictionary[\"VBN\"]:\n",
    "        new_word3 = WordNetLemmatizer().lemmatize(word3,'v')\n",
    "        tag_dictionary[\"VB\"].append(new_word3)\n",
    "    tag_dictionary.pop(\"VBN\")\n",
    "    for word4 in tag_dictionary[\"VBP\"]:\n",
    "        new_word4 = WordNetLemmatizer().lemmatize(word4,'v')\n",
    "        tag_dictionary[\"VB\"].append(new_word4)\n",
    "    tag_dictionary.pop(\"VBP\")\n",
    "    for word5 in tag_dictionary[\"VBZ\"]:\n",
    "        new_word5 = WordNetLemmatizer().lemmatize(word5,'v')\n",
    "        tag_dictionary[\"VB\"].append(new_word5)\n",
    "    tag_dictionary.pop(\"VBZ\")\n",
    "\n",
    "    # Converting all the adjectives to the same form\n",
    "    for word6 in tag_dictionary[\"JJR\"]:\n",
    "        new_word6 = WordNetLemmatizer().lemmatize(word6,'a')\n",
    "        tag_dictionary[\"JJ\"].append(new_word6)\n",
    "    tag_dictionary.pop(\"JJR\")\n",
    "    for word7 in tag_dictionary[\"JJS\"]:\n",
    "        new_word7 = WordNetLemmatizer().lemmatize(word7,'a')\n",
    "        tag_dictionary[\"JJ\"].append(new_word7)\n",
    "    tag_dictionary.pop(\"JJS\") \n",
    "\n",
    "    # Putting all the adverbs into one list (the RB list)\n",
    "    for word8 in tag_dictionary[\"RBR\"]:\n",
    "        tag_dictionary[\"RB\"].append(word8)\n",
    "    tag_dictionary.pop(\"RBR\")\n",
    "    for word9 in tag_dictionary[\"RBS\"]:\n",
    "        tag_dictionary[\"RB\"].append(word9)\n",
    "    tag_dictionary.pop(\"RBS\")\n",
    "\n",
    "    # Converting all nouns to the same form (add all to NN)\n",
    "    for word10 in tag_dictionary[\"NNS\"]:\n",
    "        new_word10 = WordNetLemmatizer().lemmatize(word10)\n",
    "        tag_dictionary[\"NN\"].append(new_word10)\n",
    "    tag_dictionary.pop(\"NNS\") \n",
    "    for word11 in tag_dictionary[\"NNP\"]:\n",
    "        new_word11 = WordNetLemmatizer().lemmatize(word11)\n",
    "        tag_dictionary[\"NN\"].append(new_word11)\n",
    "    tag_dictionary.pop(\"NNP\")\n",
    "    for word12 in tag_dictionary[\"NNPS\"]:\n",
    "        new_word12 = WordNetLemmatizer().lemmatize(word12)\n",
    "        tag_dictionary[\"NN\"].append(new_word12)\n",
    "    tag_dictionary.pop(\"NNPS\")\n",
    "\n",
    "    # Get rid of tags we don't want to analyze\n",
    "    tag_dictionary.pop(\"CC\")\n",
    "    tag_dictionary.pop(\"CD\")\n",
    "    tag_dictionary.pop(\"DT\")\n",
    "    tag_dictionary.pop(\"EX\")\n",
    "    tag_dictionary.pop(\"IN\")\n",
    "    tag_dictionary.pop(\"LS\")\n",
    "    tag_dictionary.pop(\"MD\")\n",
    "    tag_dictionary.pop(\"POS\")\n",
    "    \n",
    "    # Craft the important ideas\n",
    "    for key in tag_dictionary:\n",
    "        tag_dictionary[key] = Counter(tag_dictionary[key]).most_common()\n",
    "    \n",
    "    # Return nouns and adjectives\n",
    "    nouns = tag_dictionary[\"NN\"]\n",
    "    adjectives = tag_dictionary[\"JJ\"]\n",
    "    return nouns, adjectives"
   ]
  },
  {
   "cell_type": "markdown",
   "id": "d6e8148b",
   "metadata": {},
   "source": [
    "## Feature 4: Identifying Key Words\n",
    "Note: we could potentially use the top-$n$ words from the frequncy distribution as our ''keywords'', since they are by far the most common? Just a thought!"
   ]
  },
  {
   "cell_type": "code",
   "execution_count": 17,
   "id": "026feeef",
   "metadata": {},
   "outputs": [],
   "source": [
    "# Set null nouns\n",
    "main_df.at['noun_1'] = \"\"\n",
    "main_df.at['noun_2'] = \"\"\n",
    "main_df.at['noun_3'] = \"\"\n",
    "\n",
    "# Set null adjectives\n",
    "main_df.at['adjective_1'] = \"\"\n",
    "main_df.at['adjective_2'] = \"\"\n",
    "main_df.at['adjective_3'] = \"\"\n",
    "\n",
    "# Iterate each row in the dataframe\n",
    "for index, row in main_df.iterrows():\n",
    "    # Extract the frequencies\n",
    "    transcript = main_df.at[index, 'transcript']\n",
    "    title = main_df.at[index, 'title']\n",
    "    nouns, adjectives = extract_frequencies(title, transcript)\n",
    "    \n",
    "    # Set words 1\n",
    "    if (len(nouns) >= 1):\n",
    "        main_df.at[index, 'noun_1'] = nouns[0][0]\n",
    "    else:\n",
    "        main_df.at[index, 'noun_1'] = \"\"\n",
    "    if (len(adjectives) > 1):\n",
    "        main_df.at[index, 'adjective_1'] = adjectives[0][0]\n",
    "    else:\n",
    "        main_df.at[index, 'adjective_1'] = \"\"\n",
    "    \n",
    "    # Set words 2\n",
    "    if (len(nouns) >= 2):\n",
    "        main_df.at[index, 'noun_2'] = nouns[1][0]\n",
    "    else:\n",
    "        main_df.at[index, 'noun_2'] = \"\"\n",
    "    if (len(adjectives) >= 2):\n",
    "        main_df.at[index, 'adjective_2'] = adjectives[1][0]\n",
    "    else:\n",
    "        main_df.at[index, 'adjective_2'] = \"\"\n",
    "    \n",
    "    # Set words 3\n",
    "    if (len(nouns) >= 3):\n",
    "        main_df.at[index, 'noun_3'] = nouns[2][0]\n",
    "    else:\n",
    "        main_df.at[index, 'noun_3'] = \"\"\n",
    "    if (len(adjectives) >= 3):\n",
    "        main_df.at[index, 'adjective_3'] = adjectives[2][0]\n",
    "    else:\n",
    "        main_df.at[index, 'adjective_3'] = \"\""
   ]
  },
  {
   "cell_type": "markdown",
   "id": "8753a138",
   "metadata": {},
   "source": [
    "## Save All Data\n",
    "Save final dataframe into a CSV file."
   ]
  },
  {
   "cell_type": "code",
   "execution_count": 18,
   "id": "d2f52680",
   "metadata": {},
   "outputs": [],
   "source": [
    "main_df.to_csv('../data/last_data.csv', index=None)"
   ]
  }
 ],
 "metadata": {
  "interpreter": {
   "hash": "aee8b7b246df8f9039afb4144a1f6fd8d2ca17a180786b69acc140d282b71a49"
  },
  "kernelspec": {
   "display_name": "Python 3",
   "language": "python",
   "name": "python3"
  },
  "language_info": {
   "codemirror_mode": {
    "name": "ipython",
    "version": 3
   },
   "file_extension": ".py",
   "mimetype": "text/x-python",
   "name": "python",
   "nbconvert_exporter": "python",
   "pygments_lexer": "ipython3",
   "version": "3.8.5"
  }
 },
 "nbformat": 4,
 "nbformat_minor": 5
}
