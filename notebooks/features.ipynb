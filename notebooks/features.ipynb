{
 "cells": [
  {
   "cell_type": "markdown",
   "id": "688a280b",
   "metadata": {},
   "source": [
    "# CS 221 Project - Text Features\n",
    "Extracting the pertinent text features from the dataset to be used for classifying text."
   ]
  },
  {
   "cell_type": "markdown",
   "id": "76c7259e",
   "metadata": {},
   "source": [
    "## Libraries\n",
    "Using NLTK for NLP-related parts."
   ]
  },
  {
   "cell_type": "code",
   "execution_count": 1,
   "id": "782943b2",
   "metadata": {},
   "outputs": [
    {
     "name": "stderr",
     "output_type": "stream",
     "text": [
      "[nltk_data] Downloading package punkt to /Users/cpondoc/nltk_data...\n",
      "[nltk_data]   Package punkt is already up-to-date!\n"
     ]
    }
   ],
   "source": [
    "import math\n",
    "import matplotlib.pyplot as plt\n",
    "import nltk\n",
    "from nltk.tokenize import word_tokenize\n",
    "nltk.download('punkt')\n",
    "import numpy as np\n",
    "import pandas as pd"
   ]
  },
  {
   "cell_type": "markdown",
   "id": "0acf901e",
   "metadata": {},
   "source": [
    "## Loading in Data\n",
    "Using the data from `final_data.csv`, which is generated from `histogram.ipynb`."
   ]
  },
  {
   "cell_type": "code",
   "execution_count": 2,
   "id": "728c3f35",
   "metadata": {},
   "outputs": [],
   "source": [
    "main_df = pd.read_csv('../data/final_data.csv')"
   ]
  },
  {
   "cell_type": "markdown",
   "id": "24ad53f6",
   "metadata": {},
   "source": [
    "## Features 1 and 2: Lexical Diversity and Length\n",
    "Calculating the lexical diversity of each document, which we define as: $\\frac{\\text{number of unique words}}{\\text{number of total words}}$. In addition, we define the number of words (we will eventually update to modeling against a distribution)."
   ]
  },
  {
   "cell_type": "code",
   "execution_count": 3,
   "id": "a3b4efed",
   "metadata": {},
   "outputs": [],
   "source": [
    "# Saving lengths\n",
    "lengths = []\n",
    "\n",
    "# Iterate each row in the dataframe\n",
    "for index, row in main_df.iterrows():\n",
    "    # Calculate lexical diversity\n",
    "    words = word_tokenize(main_df.at[index, 'transcript'])\n",
    "    lexical_div = float((len(set(words))) / len(words))\n",
    "    \n",
    "    # Set appropriate columns equal\n",
    "    main_df.at[index, 'length'] = len(words)\n",
    "    lengths.append(len(words))\n",
    "    main_df.at[index, 'diversity'] = lexical_div"
   ]
  },
  {
   "cell_type": "markdown",
   "id": "93af1d80",
   "metadata": {},
   "source": [
    "### Visualizing Histogram of Lengths\n",
    "Using a histogram to visualize the lengths of the transcripts, which can be used to create a distribution for them."
   ]
  },
  {
   "cell_type": "code",
   "execution_count": 4,
   "id": "f83cbfd2",
   "metadata": {},
   "outputs": [
    {
     "data": {
      "text/plain": [
       "(array([ 21.,  27.,  68.,  96., 124., 126., 117., 109., 182., 164., 172.,\n",
       "        155., 166., 187., 136., 156., 130., 107.,  68.,  46.,  42.,  22.,\n",
       "         10.,   4.,   6.,   3.,   4.,   2.,   5.,   0.,   2.,   2.,   1.,\n",
       "          1.,   0.,   1.,   0.,   0.,   0.,   0.,   0.,   0.,   0.,   0.,\n",
       "          1.,   0.,   0.,   0.,   0.,   1.]),\n",
       " array([6.000000e+00, 2.190200e+02, 4.320400e+02, 6.450600e+02,\n",
       "        8.580800e+02, 1.071100e+03, 1.284120e+03, 1.497140e+03,\n",
       "        1.710160e+03, 1.923180e+03, 2.136200e+03, 2.349220e+03,\n",
       "        2.562240e+03, 2.775260e+03, 2.988280e+03, 3.201300e+03,\n",
       "        3.414320e+03, 3.627340e+03, 3.840360e+03, 4.053380e+03,\n",
       "        4.266400e+03, 4.479420e+03, 4.692440e+03, 4.905460e+03,\n",
       "        5.118480e+03, 5.331500e+03, 5.544520e+03, 5.757540e+03,\n",
       "        5.970560e+03, 6.183580e+03, 6.396600e+03, 6.609620e+03,\n",
       "        6.822640e+03, 7.035660e+03, 7.248680e+03, 7.461700e+03,\n",
       "        7.674720e+03, 7.887740e+03, 8.100760e+03, 8.313780e+03,\n",
       "        8.526800e+03, 8.739820e+03, 8.952840e+03, 9.165860e+03,\n",
       "        9.378880e+03, 9.591900e+03, 9.804920e+03, 1.001794e+04,\n",
       "        1.023096e+04, 1.044398e+04, 1.065700e+04]),\n",
       " <BarContainer object of 50 artists>)"
      ]
     },
     "execution_count": 4,
     "metadata": {},
     "output_type": "execute_result"
    },
    {
     "data": {
      "image/png": "[encoded data removed]",
      "text/plain": [
       "<Figure size 432x288 with 1 Axes>"
      ]
     },
     "metadata": {
      "needs_background": "light"
     },
     "output_type": "display_data"
    }
   ],
   "source": [
    "plt.hist(lengths, bins=50)"
   ]
  },
  {
   "cell_type": "markdown",
   "id": "e6129760",
   "metadata": {},
   "source": [
    "## Feature 3: Frequency Distribution of Common Words\n",
    "Look at the frequency of each word (we will collate all of the texts into one document and eventually compare it to the average, later)."
   ]
  },
  {
   "cell_type": "code",
   "execution_count": 5,
   "id": "63d1b211",
   "metadata": {},
   "outputs": [],
   "source": [
    "# Frequency distributions\n",
    "freq_dists = []\n",
    "key_words = []\n",
    "\n",
    "# Setting the column for frequency distribution\n",
    "for index, row in main_df.iterrows():\n",
    "    # Calculate frequency distribution and set it equal\n",
    "    words = word_tokenize(main_df.at[index, 'transcript'])\n",
    "    freq_dist = nltk.FreqDist(words)\n",
    "    freq_dists.append(freq_dist)\n",
    "    keys = freq_dist.keys()"
   ]
  },
  {
   "cell_type": "markdown",
   "id": "d6e8148b",
   "metadata": {},
   "source": [
    "## Feature 4: Identifying Key Words\n",
    "Note: we could potentially use the top-$n$ words from the frequncy distribution as our ''keywords'', since they are by far the most common? Just a thought!"
   ]
  },
  {
   "cell_type": "code",
   "execution_count": 6,
   "id": "026feeef",
   "metadata": {},
   "outputs": [],
   "source": [
    "# Presumably use freq_dists from above!"
   ]
  }
 ],
 "metadata": {
  "kernelspec": {
   "display_name": "Python 3",
   "language": "python",
   "name": "python3"
  },
  "language_info": {
   "codemirror_mode": {
    "name": "ipython",
    "version": 3
   },
   "file_extension": ".py",
   "mimetype": "text/x-python",
   "name": "python",
   "nbconvert_exporter": "python",
   "pygments_lexer": "ipython3",
   "version": "3.8.5"
  }
 },
 "nbformat": 4,
 "nbformat_minor": 5
}
