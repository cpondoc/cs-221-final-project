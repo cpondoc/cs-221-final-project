{
 "cells": [
  {
   "cell_type": "markdown",
   "metadata": {},
   "source": [
    "# CS 221 Project - Finding Classification Values\n",
    "This notebook determines the classification ranges for different levels of virality."
   ]
  },
  {
   "cell_type": "markdown",
   "metadata": {},
   "source": [
    "## Libraries\n",
    "Using `pandas` for data analysis."
   ]
  },
  {
   "cell_type": "code",
   "execution_count": 2,
   "metadata": {},
   "outputs": [],
   "source": [
    "import math\n",
    "import matplotlib.pyplot as plt\n",
    "import numpy as np\n",
    "import pandas as pd"
   ]
  },
  {
   "cell_type": "markdown",
   "metadata": {},
   "source": [
    "## Reading in Data\n",
    "Looking at the data from the Kaggle dataset."
   ]
  },
  {
   "cell_type": "code",
   "execution_count": 4,
   "metadata": {},
   "outputs": [
    {
     "name": "stdout",
     "output_type": "stream",
     "text": [
      "Index(['comments', 'description', 'duration', 'event', 'film_date',\n",
      "       'languages', 'main_speaker', 'name', 'num_speaker', 'published_date',\n",
      "       'ratings', 'related_talks', 'speaker_occupation', 'tags', 'title',\n",
      "       'url', 'views'],\n",
      "      dtype='object')\n",
      "Index(['transcript', 'url'], dtype='object')\n",
      "2550\n",
      "2467\n"
     ]
    }
   ],
   "source": [
    "main_df = pd.read_csv('../data/ted_main.csv')\n",
    "transcript_df = pd.read_csv('../data/transcripts.csv')\n",
    "\n",
    "# Look at columns\n",
    "print(main_df.columns)\n",
    "print(transcript_df.columns)\n",
    "\n",
    "# Look at size\n",
    "print(main_df.shape[0])\n",
    "print(transcript_df.shape[0])"
   ]
  },
  {
   "cell_type": "markdown",
   "metadata": {},
   "source": [
    "## Verifying Usage of URLs\n",
    "Making sure all URLs would be used."
   ]
  },
  {
   "cell_type": "code",
   "execution_count": 7,
   "metadata": {},
   "outputs": [
    {
     "name": "stdout",
     "output_type": "stream",
     "text": [
      "2467\n"
     ]
    }
   ],
   "source": [
    "# Iterate through the main URLs and transcript URLs\n",
    "main_urls = main_df['url']\n",
    "transcript_urls = transcript_df['url']\n",
    "common_urls = []\n",
    "\n",
    "# Find URLs in common\n",
    "for url in main_urls:\n",
    "    for other_url in transcript_urls:\n",
    "        if (url == other_url):\n",
    "            common_urls.append(url)\n",
    "\n",
    "# Print number of final transcripts\n",
    "print(len(common_urls))"
   ]
  },
  {
   "cell_type": "markdown",
   "metadata": {},
   "source": [
    "## Creating Final Main Dataframe\n",
    "Creating dataframe with main entries linked to their transcripts."
   ]
  },
  {
   "cell_type": "code",
   "execution_count": 5,
   "metadata": {},
   "outputs": [],
   "source": [
    "# Mapping common URLs to thing in index dataframe\n",
    "main_df[\"transcript\"] = \"\"\n",
    "for i in range(len(common_urls)):\n",
    "    transcript_entry = transcript_df[transcript_df['url'] == common_urls[i]]\n",
    "    final_transcript = transcript_entry['transcript'].values[0]\n",
    "    main_df.loc[main_df['url'] == common_urls[i], 'transcript'] = final_transcript\n",
    "\n",
    "# Remove anything with no entries\n",
    "main_df = main_df[main_df['transcript'] != \"\"]\n",
    "main_df.to_csv('../data/final_data.csv', index=False)"
   ]
  },
  {
   "cell_type": "markdown",
   "metadata": {},
   "source": [
    "## Visualizing Distribution of Views\n",
    "Looking at all possible TED Talks, and then going from there."
   ]
  },
  {
   "cell_type": "code",
   "execution_count": 6,
   "metadata": {},
   "outputs": [
    {
     "data": {
      "text/plain": [
       "(array([ 21.,  48.,  90.,  93., 113., 135., 158., 150., 163., 176., 146.,\n",
       "        133.,  96., 115.,  87.,  83.,  51.,  52.,  38.,  39.,  31.,  36.,\n",
       "         28.,  16.,  30.,  22.,  18.,  14.,  13.,  11.,   9.,  13.,  12.,\n",
       "          8.,   9.,   6.,   5.,  11.,   7.,   7.,   5.,  10.,   7.,   7.,\n",
       "          8.,   2.,   7.,   9.,   3.,   6.,   7.,   3.,   0.,   2.,   2.,\n",
       "          2.,   2.,   1.,   1.,   2.,   2.,   1.,   1.,   2.,   3.,   1.,\n",
       "          1.,   4.,   2.,   1.,   1.,   0.,   2.,   0.,   0.,   3.,   1.,\n",
       "          3.,   1.,   1.,   0.,   1.,   1.,   2.,   2.,   1.,   0.,   1.,\n",
       "          1.,   0.,   2.,   0.,   2.,   1.,   1.,   1.,   1.,   2.,   0.,\n",
       "          1.,   0.,   1.,   0.,   0.,   1.,   0.,   1.,   1.,   0.,   0.,\n",
       "          2.,   0.,   0.,   1.,   0.,   0.,   0.,   0.,   0.,   1.,   0.,\n",
       "          0.,   0.,   0.,   0.,   1.,   1.,   0.,   0.,   0.,   0.,   0.,\n",
       "          0.,   0.,   0.,   0.,   0.,   0.,   1.,   2.,   0.,   0.,   0.,\n",
       "          0.,   0.,   0.,   1.,   0.,   0.,   0.,   0.,   0.,   0.,   1.,\n",
       "          2.,   0.,   0.,   0.,   0.,   0.,   1.,   0.,   0.,   0.,   1.,\n",
       "          0.,   0.,   0.,   0.,   1.,   1.,   0.,   0.,   0.,   1.,   0.,\n",
       "          0.,   1.,   0.,   0.,   0.,   0.,   0.,   0.,   0.,   1.,   0.,\n",
       "          0.,   0.,   0.,   0.,   0.,   0.,   0.,   0.,   0.,   0.,   0.,\n",
       "          1.,   0.,   0.,   0.,   0.,   0.,   0.,   0.,   0.,   0.,   1.,\n",
       "          0.,   0.,   0.,   0.,   0.,   0.,   1.,   0.,   0.,   1.,   0.,\n",
       "          0.,   0.,   0.,   1.,   0.,   0.,   0.,   1.,   0.,   0.,   0.,\n",
       "          0.,   0.,   0.,   1.,   0.,   0.,   0.,   0.,   0.,   0.,   0.,\n",
       "          0.,   0.,   0.,   0.,   0.,   0.,   0.,   0.,   0.,   0.,   0.,\n",
       "          0.,   0.,   0.,   0.,   0.,   0.,   0.,   0.,   0.,   0.,   0.,\n",
       "          0.,   0.,   0.,   0.,   0.,   0.,   0.,   0.,   0.,   0.,   0.,\n",
       "          0.,   0.,   0.,   0.,   0.,   0.,   0.,   0.,   0.,   0.,   0.,\n",
       "          0.,   0.,   0.,   0.,   0.,   0.,   0.,   0.,   0.,   0.,   0.,\n",
       "          0.,   0.,   0.,   0.,   0.,   0.,   0.,   0.,   0.,   0.,   0.,\n",
       "          0.,   0.,   0.,   0.,   0.,   0.,   0.,   0.,   0.,   0.,   0.,\n",
       "          0.,   0.,   0.,   0.,   0.,   0.,   0.,   0.,   0.,   0.,   1.,\n",
       "          0.,   0.,   0.,   0.,   0.,   0.,   0.,   0.,   0.,   0.,   0.,\n",
       "          0.,   0.,   0.,   0.,   0.,   0.,   0.,   0.,   0.,   0.,   0.,\n",
       "          0.,   0.,   0.,   0.,   0.,   0.,   0.,   0.,   0.,   0.,   1.,\n",
       "          0.,   0.,   0.,   0.,   0.,   0.,   0.,   0.,   0.,   0.,   0.,\n",
       "          0.,   0.,   0.,   0.,   0.,   0.,   0.,   0.,   0.,   0.,   0.,\n",
       "          0.,   0.,   0.,   0.,   0.,   0.,   0.,   0.,   0.,   0.,   0.,\n",
       "          0.,   0.,   0.,   0.,   0.,   0.,   0.,   0.,   0.,   0.,   0.,\n",
       "          0.,   0.,   0.,   0.,   0.,   0.,   0.,   0.,   0.,   0.,   0.,\n",
       "          0.,   0.,   0.,   0.,   0.,   0.,   0.,   0.,   0.,   0.,   0.,\n",
       "          0.,   0.,   0.,   0.,   0.,   0.,   0.,   0.,   0.,   0.,   0.,\n",
       "          0.,   0.,   0.,   0.,   0.,   0.,   0.,   0.,   0.,   0.,   0.,\n",
       "          0.,   0.,   0.,   0.,   0.,   1.,   0.,   0.,   0.,   0.,   0.,\n",
       "          0.,   0.,   0.,   0.,   0.,   0.,   0.,   0.,   0.,   0.,   0.,\n",
       "          0.,   0.,   0.,   0.,   0.,   0.,   0.,   0.,   0.,   0.,   0.,\n",
       "          0.,   0.,   0.,   0.,   0.,   0.,   0.,   0.,   0.,   0.,   0.,\n",
       "          0.,   0.,   0.,   0.,   1.]),\n",
       " array([  155895.        ,   250037.43      ,   344179.86      ,\n",
       "          438322.29      ,   532464.72      ,   626607.15      ,\n",
       "          720749.58      ,   814892.01      ,   909034.44      ,\n",
       "         1003176.87      ,  1097319.3       ,  1191461.73      ,\n",
       "         1285604.16      ,  1379746.59      ,  1473889.02      ,\n",
       "         1568031.45      ,  1662173.88      ,  1756316.31      ,\n",
       "         1850458.74      ,  1944601.17      ,  2038743.6       ,\n",
       "         2132886.03      ,  2227028.46      ,  2321170.89      ,\n",
       "         2415313.32      ,  2509455.75      ,  2603598.18      ,\n",
       "         2697740.61      ,  2791883.04      ,  2886025.47      ,\n",
       "         2980167.9       ,  3074310.33      ,  3168452.76      ,\n",
       "         3262595.19      ,  3356737.62      ,  3450880.05      ,\n",
       "         3545022.48      ,  3639164.91      ,  3733307.34      ,\n",
       "         3827449.77      ,  3921592.2       ,  4015734.63      ,\n",
       "         4109877.06      ,  4204019.49      ,  4298161.92      ,\n",
       "         4392304.35      ,  4486446.78      ,  4580589.21      ,\n",
       "         4674731.64      ,  4768874.07      ,  4863016.5       ,\n",
       "         4957158.93      ,  5051301.36      ,  5145443.79      ,\n",
       "         5239586.22      ,  5333728.65      ,  5427871.08      ,\n",
       "         5522013.51      ,  5616155.94      ,  5710298.37      ,\n",
       "         5804440.8       ,  5898583.23      ,  5992725.66      ,\n",
       "         6086868.09      ,  6181010.52      ,  6275152.95      ,\n",
       "         6369295.38      ,  6463437.81      ,  6557580.24      ,\n",
       "         6651722.67      ,  6745865.1       ,  6840007.53      ,\n",
       "         6934149.96      ,  7028292.39      ,  7122434.82      ,\n",
       "         7216577.25      ,  7310719.68      ,  7404862.11      ,\n",
       "         7499004.54      ,  7593146.97      ,  7687289.4       ,\n",
       "         7781431.83      ,  7875574.26      ,  7969716.69      ,\n",
       "         8063859.12      ,  8158001.55      ,  8252143.98      ,\n",
       "         8346286.41      ,  8440428.84      ,  8534571.27      ,\n",
       "         8628713.7       ,  8722856.13      ,  8816998.56      ,\n",
       "         8911140.99      ,  9005283.42      ,  9099425.85      ,\n",
       "         9193568.28      ,  9287710.71      ,  9381853.14      ,\n",
       "         9475995.57      ,  9570138.        ,  9664280.43      ,\n",
       "         9758422.86      ,  9852565.29      ,  9946707.72      ,\n",
       "        10040850.15      , 10134992.58      , 10229135.01      ,\n",
       "        10323277.44      , 10417419.87      , 10511562.3       ,\n",
       "        10605704.73      , 10699847.16      , 10793989.59      ,\n",
       "        10888132.02      , 10982274.45      , 11076416.88      ,\n",
       "        11170559.31      , 11264701.74      , 11358844.17      ,\n",
       "        11452986.6       , 11547129.03      , 11641271.46      ,\n",
       "        11735413.89      , 11829556.32      , 11923698.75      ,\n",
       "        12017841.18      , 12111983.61      , 12206126.04      ,\n",
       "        12300268.47      , 12394410.9       , 12488553.33      ,\n",
       "        12582695.76      , 12676838.19      , 12770980.62      ,\n",
       "        12865123.05      , 12959265.48      , 13053407.91      ,\n",
       "        13147550.34      , 13241692.77      , 13335835.2       ,\n",
       "        13429977.63      , 13524120.06      , 13618262.49      ,\n",
       "        13712404.92      , 13806547.35      , 13900689.78      ,\n",
       "        13994832.21      , 14088974.64      , 14183117.07      ,\n",
       "        14277259.5       , 14371401.93      , 14465544.36      ,\n",
       "        14559686.79      , 14653829.22      , 14747971.65      ,\n",
       "        14842114.08      , 14936256.51      , 15030398.94      ,\n",
       "        15124541.37      , 15218683.8       , 15312826.23      ,\n",
       "        15406968.66      , 15501111.09      , 15595253.52      ,\n",
       "        15689395.95      , 15783538.38      , 15877680.81      ,\n",
       "        15971823.24      , 16065965.67      , 16160108.1       ,\n",
       "        16254250.53      , 16348392.96      , 16442535.39      ,\n",
       "        16536677.82      , 16630820.25      , 16724962.68      ,\n",
       "        16819105.11      , 16913247.54      , 17007389.97      ,\n",
       "        17101532.4       , 17195674.83      , 17289817.26      ,\n",
       "        17383959.69      , 17478102.12      , 17572244.55      ,\n",
       "        17666386.98      , 17760529.41      , 17854671.84      ,\n",
       "        17948814.27      , 18042956.7       , 18137099.13      ,\n",
       "        18231241.56      , 18325383.99      , 18419526.42      ,\n",
       "        18513668.85      , 18607811.28      , 18701953.71      ,\n",
       "        18796096.14      , 18890238.57      , 18984381.        ,\n",
       "        19078523.43      , 19172665.86      , 19266808.29      ,\n",
       "        19360950.72      , 19455093.15      , 19549235.58      ,\n",
       "        19643378.01      , 19737520.44      , 19831662.87      ,\n",
       "        19925805.3       , 20019947.73      , 20114090.16      ,\n",
       "        20208232.59      , 20302375.02      , 20396517.45      ,\n",
       "        20490659.88      , 20584802.31      , 20678944.74      ,\n",
       "        20773087.17      , 20867229.6       , 20961372.03      ,\n",
       "        21055514.46      , 21149656.89      , 21243799.32      ,\n",
       "        21337941.75      , 21432084.18      , 21526226.61      ,\n",
       "        21620369.04      , 21714511.47      , 21808653.9       ,\n",
       "        21902796.33      , 21996938.76      , 22091081.19      ,\n",
       "        22185223.62      , 22279366.05      , 22373508.48      ,\n",
       "        22467650.91      , 22561793.34      , 22655935.77      ,\n",
       "        22750078.2       , 22844220.63      , 22938363.06      ,\n",
       "        23032505.49      , 23126647.92      , 23220790.35      ,\n",
       "        23314932.78      , 23409075.21      , 23503217.64      ,\n",
       "        23597360.07      , 23691502.5       , 23785644.93      ,\n",
       "        23879787.36      , 23973929.79      , 24068072.22      ,\n",
       "        24162214.65      , 24256357.08      , 24350499.51      ,\n",
       "        24444641.94      , 24538784.37      , 24632926.8       ,\n",
       "        24727069.23      , 24821211.66      , 24915354.09      ,\n",
       "        25009496.52      , 25103638.95      , 25197781.38      ,\n",
       "        25291923.81      , 25386066.24      , 25480208.67      ,\n",
       "        25574351.1       , 25668493.53      , 25762635.96      ,\n",
       "        25856778.39      , 25950920.82      , 26045063.25      ,\n",
       "        26139205.68      , 26233348.11      , 26327490.54      ,\n",
       "        26421632.97      , 26515775.4       , 26609917.83      ,\n",
       "        26704060.26      , 26798202.69      , 26892345.12      ,\n",
       "        26986487.55      , 27080629.98      , 27174772.41      ,\n",
       "        27268914.84      , 27363057.27      , 27457199.7       ,\n",
       "        27551342.13      , 27645484.56      , 27739626.99      ,\n",
       "        27833769.42      , 27927911.85      , 28022054.28      ,\n",
       "        28116196.71      , 28210339.14      , 28304481.57      ,\n",
       "        28398624.        , 28492766.43      , 28586908.86      ,\n",
       "        28681051.29      , 28775193.72      , 28869336.15      ,\n",
       "        28963478.58      , 29057621.01      , 29151763.44      ,\n",
       "        29245905.87      , 29340048.3       , 29434190.73      ,\n",
       "        29528333.16      , 29622475.59      , 29716618.02      ,\n",
       "        29810760.45      , 29904902.88      , 29999045.31      ,\n",
       "        30093187.74      , 30187330.17      , 30281472.6       ,\n",
       "        30375615.03      , 30469757.46      , 30563899.89      ,\n",
       "        30658042.32      , 30752184.75      , 30846327.18      ,\n",
       "        30940469.61      , 31034612.04      , 31128754.47      ,\n",
       "        31222896.9       , 31317039.33      , 31411181.76      ,\n",
       "        31505324.19      , 31599466.62      , 31693609.05      ,\n",
       "        31787751.48      , 31881893.91      , 31976036.34      ,\n",
       "        32070178.77      , 32164321.2       , 32258463.63      ,\n",
       "        32352606.06      , 32446748.49      , 32540890.92      ,\n",
       "        32635033.35      , 32729175.78      , 32823318.21      ,\n",
       "        32917460.64      , 33011603.07      , 33105745.5       ,\n",
       "        33199887.93      , 33294030.36      , 33388172.79      ,\n",
       "        33482315.22      , 33576457.65      , 33670600.08      ,\n",
       "        33764742.51      , 33858884.94      , 33953027.37      ,\n",
       "        34047169.8       , 34141312.23      , 34235454.66      ,\n",
       "        34329597.09      , 34423739.52      , 34517881.95      ,\n",
       "        34612024.38      , 34706166.80999999, 34800309.23999999,\n",
       "        34894451.66999999, 34988594.09999999, 35082736.52999999,\n",
       "        35176878.96      , 35271021.39      , 35365163.82      ,\n",
       "        35459306.25      , 35553448.68      , 35647591.11      ,\n",
       "        35741733.54      , 35835875.97      , 35930018.4       ,\n",
       "        36024160.83      , 36118303.26      , 36212445.69      ,\n",
       "        36306588.12      , 36400730.55      , 36494872.98      ,\n",
       "        36589015.41      , 36683157.84      , 36777300.27      ,\n",
       "        36871442.7       , 36965585.13      , 37059727.55999999,\n",
       "        37153869.98999999, 37248012.41999999, 37342154.84999999,\n",
       "        37436297.27999999, 37530439.71      , 37624582.14      ,\n",
       "        37718724.57      , 37812867.        , 37907009.43      ,\n",
       "        38001151.86      , 38095294.29      , 38189436.72      ,\n",
       "        38283579.15      , 38377721.58      , 38471864.01      ,\n",
       "        38566006.44      , 38660148.87      , 38754291.3       ,\n",
       "        38848433.73      , 38942576.16      , 39036718.59      ,\n",
       "        39130861.02      , 39225003.45      , 39319145.88      ,\n",
       "        39413288.30999999, 39507430.73999999, 39601573.16999999,\n",
       "        39695715.59999999, 39789858.02999999, 39884000.45999999,\n",
       "        39978142.89      , 40072285.32      , 40166427.75      ,\n",
       "        40260570.18      , 40354712.61      , 40448855.04      ,\n",
       "        40542997.47      , 40637139.9       , 40731282.33      ,\n",
       "        40825424.76      , 40919567.19      , 41013709.62      ,\n",
       "        41107852.05      , 41201994.48      , 41296136.91      ,\n",
       "        41390279.34      , 41484421.77      , 41578564.2       ,\n",
       "        41672706.63      , 41766849.05999999, 41860991.48999999,\n",
       "        41955133.91999999, 42049276.34999999, 42143418.77999999,\n",
       "        42237561.20999999, 42331703.64      , 42425846.07      ,\n",
       "        42519988.5       , 42614130.93      , 42708273.36      ,\n",
       "        42802415.79      , 42896558.22      , 42990700.65      ,\n",
       "        43084843.08      , 43178985.51      , 43273127.94      ,\n",
       "        43367270.37      , 43461412.8       , 43555555.23      ,\n",
       "        43649697.66      , 43743840.09      , 43837982.52      ,\n",
       "        43932124.95      , 44026267.38      , 44120409.80999999,\n",
       "        44214552.23999999, 44308694.66999999, 44402837.09999999,\n",
       "        44496979.52999999, 44591121.95999999, 44685264.38999999,\n",
       "        44779406.82      , 44873549.25      , 44967691.68      ,\n",
       "        45061834.11      , 45155976.54      , 45250118.97      ,\n",
       "        45344261.4       , 45438403.83      , 45532546.26      ,\n",
       "        45626688.69      , 45720831.12      , 45814973.55      ,\n",
       "        45909115.98      , 46003258.41      , 46097400.84      ,\n",
       "        46191543.27      , 46285685.7       , 46379828.13      ,\n",
       "        46473970.55999999, 46568112.98999999, 46662255.41999999,\n",
       "        46756397.84999999, 46850540.27999999, 46944682.70999999,\n",
       "        47038825.13999999, 47132967.56999999, 47227110.        ]),\n",
       " <BarContainer object of 500 artists>)"
      ]
     },
     "execution_count": 6,
     "metadata": {},
     "output_type": "execute_result"
    },
    {
     "data": {
      "image/png": "[encoded data removed]",
      "text/plain": [
       "<Figure size 432x288 with 1 Axes>"
      ]
     },
     "metadata": {
      "needs_background": "light"
     },
     "output_type": "display_data"
    }
   ],
   "source": [
    "main_df = main_df.sort_values(by=['views'])\n",
    "views = main_df['views']\n",
    "plt.title(\"Distribution of Views on TED Talks\")\n",
    "plt.xlabel(\"Number of Views\")\n",
    "plt.ylabel(\"Frequency\")\n",
    "plt.hist(views, bins=500)"
   ]
  },
  {
   "cell_type": "markdown",
   "metadata": {},
   "source": [
    "## Calculating Percentiles\n",
    "Performing percentiles in order to do regression."
   ]
  },
  {
   "cell_type": "code",
   "execution_count": 7,
   "metadata": {},
   "outputs": [],
   "source": [
    "counter = 1\n",
    "views = main_df['views']\n",
    "for index, row in main_df.iterrows():\n",
    "    main_df.at[index, 'percentile'] = (counter / len(views))\n",
    "    counter = counter + 1\n",
    "main_df.to_csv('../data/percentile_data.csv', index=False)"
   ]
  },
  {
   "cell_type": "markdown",
   "metadata": {},
   "source": [
    "## Splitting Up Data into $5$ Classes\n",
    "Classifying the data into different levels of virality."
   ]
  },
  {
   "cell_type": "code",
   "execution_count": 8,
   "metadata": {},
   "outputs": [],
   "source": [
    "# Create nunber of classes, class size, and total classes\n",
    "num_classes = 5\n",
    "class_size = int(len(views) / num_classes)\n",
    "classes = [[None]] * num_classes\n",
    "\n",
    "# Creating the individual classes\n",
    "total = 0\n",
    "for i in range(num_classes):\n",
    "    classes[i] = views[total:total + class_size]\n",
    "    total = total + class_size"
   ]
  },
  {
   "cell_type": "markdown",
   "metadata": {},
   "source": [
    "## Visualize Histograms of Each Class\n",
    "Finish up looking at each class."
   ]
  },
  {
   "cell_type": "code",
   "execution_count": 9,
   "metadata": {},
   "outputs": [
    {
     "data": {
      "image/png": "[encoded data removed]",
      "text/plain": [
       "<Figure size 432x288 with 5 Axes>"
      ]
     },
     "metadata": {
      "needs_background": "light"
     },
     "output_type": "display_data"
    }
   ],
   "source": [
    "# Plot each of the histograms\n",
    "fig, axs = plt.subplots(5)\n",
    "for i in range(len(classes)):\n",
    "    axs[i].set_title(\"Class \" + str(i+1) + \" of TED Talk Views\")\n",
    "    axs[i].hist(classes[i], bins = 20)\n",
    "\n",
    "# Cosmetic adjustments\n",
    "plt.subplots_adjust(left=0.1,\n",
    "                    bottom=0.1, \n",
    "                    right=0.9, \n",
    "                    top=3, \n",
    "                    wspace=0.4, \n",
    "                    hspace=0.4)\n",
    "plt.show()"
   ]
  },
  {
   "cell_type": "markdown",
   "metadata": {},
   "source": [
    "## Saving Data to CSV Files\n",
    "Once we visualize each class, separate them to prepare for training!"
   ]
  },
  {
   "cell_type": "code",
   "execution_count": 10,
   "metadata": {},
   "outputs": [],
   "source": [
    "class_size = int(len(views) / num_classes)\n",
    "for i in range(num_classes):\n",
    "    select_df = main_df[i * class_size:(i+1) * class_size]\n",
    "    select_df.to_csv('../data/dataset/' + str(i) + '.csv', index=None)"
   ]
  }
 ],
 "metadata": {
  "interpreter": {
   "hash": "aee8b7b246df8f9039afb4144a1f6fd8d2ca17a180786b69acc140d282b71a49"
  },
  "kernelspec": {
   "display_name": "Python 3",
   "language": "python",
   "name": "python3"
  },
  "language_info": {
   "codemirror_mode": {
    "name": "ipython",
    "version": 3
   },
   "file_extension": ".py",
   "mimetype": "text/x-python",
   "name": "python",
   "nbconvert_exporter": "python",
   "pygments_lexer": "ipython3",
   "version": "3.8.5"
  }
 },
 "nbformat": 4,
 "nbformat_minor": 2
}
