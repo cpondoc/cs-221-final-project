{
 "cells": [
  {
   "cell_type": "markdown",
   "id": "db9b0662",
   "metadata": {},
   "source": [
    "# CS 221 Project - Classifier\n",
    "Using the pertinent text features to make a pertinent Naive Bayes Classifier."
   ]
  },
  {
   "cell_type": "markdown",
   "id": "b0f22b42",
   "metadata": {},
   "source": [
    "## Libraries\n",
    "Using NLTK for NLP-related parts."
   ]
  },
  {
   "cell_type": "code",
   "execution_count": 177,
   "id": "49a57927",
   "metadata": {},
   "outputs": [],
   "source": [
    "import math\n",
    "import matplotlib.pyplot as plt\n",
    "import nltk\n",
    "import numpy as np\n",
    "import pandas as pd\n",
    "import random\n",
    "from sklearn.linear_model import LogisticRegression\n",
    "from nltk.classify.scikitlearn import SklearnClassifier\n",
    "classif = SklearnClassifier(LogisticRegression(max_iter=1000))"
   ]
  },
  {
   "cell_type": "markdown",
   "id": "b2ff58ff",
   "metadata": {},
   "source": [
    "## Loading in Data\n",
    "Using the data from `last_data.csv`, which is generated from `features.ipynb`."
   ]
  },
  {
   "cell_type": "code",
   "execution_count": 167,
   "id": "3bc3cd35",
   "metadata": {},
   "outputs": [],
   "source": [
    "main_df = pd.read_csv('../data/last_data.csv')"
   ]
  },
  {
   "cell_type": "markdown",
   "id": "67baffb2",
   "metadata": {},
   "source": [
    "## Generating Feature Vector\n",
    "Using lexical features extracted to produce feature vector for a corresponding TED talk."
   ]
  },
  {
   "cell_type": "code",
   "execution_count": 169,
   "id": "5887e176",
   "metadata": {},
   "outputs": [],
   "source": [
    "# List of features\n",
    "features = ['length','diversity','virality','noun_1','adjective_1','noun_2','adjective_2','noun_3','adjective_3']\n",
    "\n",
    "def ted_talk_features(title):\n",
    "    # Find row and initialize dictionary\n",
    "    row = main_df.loc[main_df['title'] == title]\n",
    "    feature_dict = {}\n",
    "    \n",
    "    # Iterate through each of the features and set proper value\n",
    "    for i in range(len(features)):\n",
    "        if (i < 3):\n",
    "            value = float(row[features[i]])\n",
    "            print(value)\n",
    "            feature_dict[features[i]] = float(row[features[i]])\n",
    "        else:\n",
    "            feature_dict[features[i]] = (row[features[i]]).tolist()[0]\n",
    "    return feature_dict"
   ]
  },
  {
   "cell_type": "code",
   "execution_count": 171,
   "id": "00d0f09e",
   "metadata": {},
   "outputs": [],
   "source": [
    "# List of features\n",
    "features = ['length','diversity','virality', 'noun_1','adjective_1','noun_2','adjective_2','noun_3','adjective_3']\n",
    "\n",
    "def new_ted_talk_features(data_point):\n",
    "    # Find row and initialize dictionary\n",
    "    feature_dict = {}\n",
    "    \n",
    "    # Iterate through each of the features and set proper value\n",
    "    for i in range(len(features)):\n",
    "        if (i < 3):\n",
    "            value = float(data_point[features[i]])\n",
    "            if (math.isnan(value)):\n",
    "                feature_dict[features[i]] = 0\n",
    "            else:\n",
    "                feature_dict[features[i]] = float(data_point[features[i]])\n",
    "        else:\n",
    "            value = str(data_point[features[i]])\n",
    "            #print(value)\n",
    "            if value == 'nan' or value is None or len(value) < 1:\n",
    "                #print(value)\n",
    "                feature_dict[features[i]] = ''\n",
    "            else:\n",
    "                feature_dict[features[i]] = (data_point[features[i]])\n",
    "            #feature_dict[features[i]] = \"bruh\"\n",
    "    return feature_dict"
   ]
  },
  {
   "cell_type": "markdown",
   "id": "5a264b95",
   "metadata": {},
   "source": [
    "## Creating Feature Sets\n",
    "Using above function to map the titles to features vectors to their labels."
   ]
  },
  {
   "cell_type": "code",
   "execution_count": 172,
   "id": "c48f91e2",
   "metadata": {},
   "outputs": [
    {
     "name": "stdout",
     "output_type": "stream",
     "text": [
      "<class 'pandas.core.frame.DataFrame'>\n"
     ]
    }
   ],
   "source": [
    "# Define the number of classes and feature sets\n",
    "classes = 5\n",
    "feature_sets = []\n",
    "\n",
    "# Iterate through each class and load in the CSV\n",
    "print(type(main_df))\n",
    "for index, data_point in main_df.iterrows():\n",
    "    feature_dict = new_ted_talk_features(data_point)\n",
    "    feature_sets.append(((feature_dict), data_point[\"percentile\"]))\n",
    "    # Iterate through each row and create corresponding feature vector to class label\n",
    "    #for index, row in df.iterrows():\n",
    "    #    title = df.at[index, 'title']\n",
    "    #    feature_dict = ted_talk_features(title)\n",
    "    #    feature_sets.append((feature_dict, i))"
   ]
  },
  {
   "cell_type": "code",
   "execution_count": 173,
   "id": "9fde6407",
   "metadata": {},
   "outputs": [],
   "source": [
    "# Define the number of classes and feature sets\n",
    "#classes = 5\n",
    "#feature_sets = []\n",
    "\n",
    "# Iterate through each class and load in the CSV\n",
    "#for i in range(classes):\n",
    "#    df = pd.read_csv('../data/dataset/' + str(i) + '.csv')\n",
    "    \n",
    "    # Iterate through each row and create corresponding feature vector to class label\n",
    "#    for index, row in df.iterrows():\n",
    "#        title = df.at[index, 'title']\n",
    "#        feature_dict = ted_talk_features(title)\n",
    "#        feature_sets.append((feature_dict, i))"
   ]
  },
  {
   "cell_type": "markdown",
   "id": "187b926f",
   "metadata": {},
   "source": [
    "## Creating the Train and Test Sets\n",
    "Shuffling the dataset, setting the training set to $80$ percent of the data, and then set aside."
   ]
  },
  {
   "cell_type": "code",
   "execution_count": 174,
   "id": "ff58e25f",
   "metadata": {},
   "outputs": [],
   "source": [
    "random.shuffle(feature_sets)\n",
    "train_len = int(len(feature_sets) * 0.8)\n",
    "train_set, test_set = feature_sets[:train_len], feature_sets[train_len:]"
   ]
  },
  {
   "cell_type": "markdown",
   "id": "3d6d9a73",
   "metadata": {},
   "source": [
    "## Training the Classifer and Outputting Accuracy\n",
    "Training the Naive Bayes Classifier and outputting the initial accuracies."
   ]
  },
  {
   "cell_type": "code",
   "execution_count": null,
   "id": "20ef29ea",
   "metadata": {},
   "outputs": [],
   "source": [
    "classifier = nltk.NaiveBayesClassifier.train(train_set)\n",
    "print(nltk.classify.accuracy(classifier, test_set))"
   ]
  },
  {
   "cell_type": "code",
   "execution_count": 178,
   "id": "4300f1d5",
   "metadata": {},
   "outputs": [],
   "source": [
    "classif.train(train_set)\n",
    "\n",
    "test_features = []\n",
    "test_value = []\n",
    "for i in range(len(test_set)):\n",
    "    test_features.append(test_set[i][0])\n",
    "    test_value.append(test_set[i][1])\n",
    "final_preds = (classif.classify_many(test_features))\n",
    "print(\"finished training\")\n",
    "sum = 0\n",
    "baseSum = 0\n",
    "ignore = 0\n",
    "for i in range(len(test_value)):\n",
    "    if math.isnan(final_preds[i]):\n",
    "        ignore += 1\n",
    "    else:\n",
    "        sum += abs(final_preds[i] - test_value[i])\n",
    "        baseSum += abs(final_preds[i] - .5)\n",
    "\n",
    "print(sum / (len(test_value) - ignore))\n",
    "print(baseSum / (len(test_value) - ignore))\n",
    "#print(classif.classify_many(test_set))\n",
    "#print(nltk.classify.accuracy(classifier, test_set))"
   ]
  },
  {
   "cell_type": "code",
   "execution_count": 165,
   "id": "06155d62",
   "metadata": {},
   "outputs": [
    {
     "name": "stdout",
     "output_type": "stream",
     "text": [
      "176.31493506493499\n",
      "0.1607142857142857\n",
      "2\n"
     ]
    }
   ],
   "source": [
    "print(sum)\n",
    "print(final_preds[58])\n",
    "print(ignore)"
   ]
  }
 ],
 "metadata": {
  "interpreter": {
   "hash": "aee8b7b246df8f9039afb4144a1f6fd8d2ca17a180786b69acc140d282b71a49"
  },
  "kernelspec": {
   "display_name": "Python 3",
   "language": "python",
   "name": "python3"
  },
  "language_info": {
   "codemirror_mode": {
    "name": "ipython",
    "version": 3
   },
   "file_extension": ".py",
   "mimetype": "text/x-python",
   "name": "python",
   "nbconvert_exporter": "python",
   "pygments_lexer": "ipython3",
   "version": "3.8.5"
  }
 },
 "nbformat": 4,
 "nbformat_minor": 5
}
