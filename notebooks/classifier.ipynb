{
 "cells": [
  {
   "cell_type": "markdown",
   "id": "9b9ff4cf",
   "metadata": {},
   "source": [
    "# Writing Classifier\n",
    "Making the Naive Bayes Classifier"
   ]
  },
  {
   "cell_type": "code",
   "execution_count": 51,
   "id": "9ecf62b5",
   "metadata": {},
   "outputs": [],
   "source": [
    "import math\n",
    "import matplotlib.pyplot as plt\n",
    "import nltk\n",
    "import numpy as np\n",
    "import pandas as pd\n",
    "import random"
   ]
  },
  {
   "cell_type": "code",
   "execution_count": 52,
   "id": "1ede3ea1",
   "metadata": {},
   "outputs": [],
   "source": [
    "main_df = pd.read_csv('../data/last_data.csv')"
   ]
  },
  {
   "cell_type": "code",
   "execution_count": 53,
   "id": "03dd0280",
   "metadata": {},
   "outputs": [],
   "source": [
    "features = ['length','diversity','virality','noun_1','adjective_1','noun_2','adjective_2','noun_3','adjective_3']\n",
    "\n",
    "def ted_talk_features(title):\n",
    "    row = main_df.loc[main_df['title'] == title]\n",
    "    feature_dict = {}\n",
    "    for i in range(len(features)):\n",
    "        if (i < 3):\n",
    "            feature_dict[features[i]] = float(row[features[i]])\n",
    "        else:\n",
    "            feature_dict[features[i]] = (row[features[i]]).tolist()[0]\n",
    "    return feature_dict"
   ]
  },
  {
   "cell_type": "code",
   "execution_count": 54,
   "id": "591b48b7",
   "metadata": {},
   "outputs": [],
   "source": [
    "labeled_features = []\n",
    "feature_sets = []\n",
    "\n",
    "for i in range(5):\n",
    "    df = pd.read_csv('../data/dataset/' + str(i) + '.csv')\n",
    "    for index, row in df.iterrows():\n",
    "        # Create the labeled feature\n",
    "        title = df.at[index, 'title']\n",
    "        labeled_features.append((title, i))\n",
    "        feature_dict = ted_talk_features(title)\n",
    "        feature_sets.append((feature_dict, i))"
   ]
  },
  {
   "cell_type": "code",
   "execution_count": 57,
   "id": "05ebdf13",
   "metadata": {},
   "outputs": [],
   "source": [
    "#print(feature_sets)\n",
    "random.shuffle(feature_sets)\n",
    "train_len = int(len(feature_sets) * 0.8)\n",
    "train_set, test_set = feature_sets[:train_len], feature_sets[train_len:]"
   ]
  },
  {
   "cell_type": "code",
   "execution_count": 58,
   "id": "7cc50b2d",
   "metadata": {},
   "outputs": [],
   "source": [
    "classifier = nltk.NaiveBayesClassifier.train(train_set)"
   ]
  },
  {
   "cell_type": "code",
   "execution_count": 59,
   "id": "c0922a01",
   "metadata": {},
   "outputs": [
    {
     "name": "stdout",
     "output_type": "stream",
     "text": [
      "0.2703252032520325\n"
     ]
    }
   ],
   "source": [
    "print(nltk.classify.accuracy(classifier, test_set))"
   ]
  },
  {
   "cell_type": "code",
   "execution_count": null,
   "id": "e48379a5",
   "metadata": {},
   "outputs": [],
   "source": []
  }
 ],
 "metadata": {
  "kernelspec": {
   "display_name": "Python 3",
   "language": "python",
   "name": "python3"
  },
  "language_info": {
   "codemirror_mode": {
    "name": "ipython",
    "version": 3
   },
   "file_extension": ".py",
   "mimetype": "text/x-python",
   "name": "python",
   "nbconvert_exporter": "python",
   "pygments_lexer": "ipython3",
   "version": "3.8.5"
  }
 },
 "nbformat": 4,
 "nbformat_minor": 5
}
