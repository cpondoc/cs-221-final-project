{
 "cells": [
  {
   "cell_type": "markdown",
   "id": "d4920cb5",
   "metadata": {},
   "source": [
    "# CS 221 Project - Classifier\n",
    "Using the pertinent text features to make a pertinent Naive Bayes Classifier."
   ]
  },
  {
   "cell_type": "markdown",
   "id": "2a78d278",
   "metadata": {},
   "source": [
    "## Libraries\n",
    "Using NLTK for NLP-related parts."
   ]
  },
  {
   "cell_type": "code",
   "execution_count": 51,
   "id": "aa4bf1aa",
   "metadata": {},
   "outputs": [],
   "source": [
    "import math\n",
    "import matplotlib.pyplot as plt\n",
    "import nltk\n",
    "import numpy as np\n",
    "import pandas as pd\n",
    "import random"
   ]
  },
  {
   "cell_type": "markdown",
   "id": "552a1169",
   "metadata": {},
   "source": [
    "## Loading in Data\n",
    "Using the data from `last_data.csv`, which is generated from `features.ipynb`."
   ]
  },
  {
   "cell_type": "code",
   "execution_count": 52,
   "id": "b3d439be",
   "metadata": {},
   "outputs": [],
   "source": [
    "main_df = pd.read_csv('../data/last_data.csv')"
   ]
  },
  {
   "cell_type": "markdown",
   "id": "c9426a9c",
   "metadata": {},
   "source": [
    "## Generating Feature Vector\n",
    "Using lexical features extracted to produce feature vector for a corresponding TED talk."
   ]
  },
  {
   "cell_type": "code",
   "execution_count": 53,
   "id": "1a7f15f2",
   "metadata": {},
   "outputs": [],
   "source": [
    "# List of features\n",
    "features = ['length','diversity','virality','noun_1','adjective_1','noun_2','adjective_2','noun_3','adjective_3']\n",
    "\n",
    "def ted_talk_features(title):\n",
    "    # Find row and initialize dictionary\n",
    "    row = main_df.loc[main_df['title'] == title]\n",
    "    feature_dict = {}\n",
    "    \n",
    "    # Iterate through each of the features and set proper value\n",
    "    for i in range(len(features)):\n",
    "        if (i < 3):\n",
    "            feature_dict[features[i]] = float(row[features[i]])\n",
    "        else:\n",
    "            feature_dict[features[i]] = (row[features[i]]).tolist()[0]\n",
    "    return feature_dict"
   ]
  },
  {
   "cell_type": "markdown",
   "id": "e4307132",
   "metadata": {},
   "source": [
    "## Creating Feature Sets\n",
    "Using above function to map the titles to features vectors to their labels."
   ]
  },
  {
   "cell_type": "code",
   "execution_count": 54,
   "id": "766ffa00",
   "metadata": {},
   "outputs": [],
   "source": [
    "# Define the number of classes and feature sets\n",
    "classes = 5\n",
    "feature_sets = []\n",
    "\n",
    "# Iterate through each class and load in the CSV\n",
    "for i in range(classes):\n",
    "    df = pd.read_csv('../data/dataset/' + str(i) + '.csv')\n",
    "    \n",
    "    # Iterate through each row and create corresponding feature vector to class label\n",
    "    for index, row in df.iterrows():\n",
    "        title = df.at[index, 'title']\n",
    "        feature_dict = ted_talk_features(title)\n",
    "        feature_sets.append((feature_dict, i))"
   ]
  },
  {
   "cell_type": "markdown",
   "id": "3535e89b",
   "metadata": {},
   "source": [
    "## Creating the Train and Test Sets\n",
    "Shuffling the dataset, setting the training set to $80$ percent of the data, and then set aside."
   ]
  },
  {
   "cell_type": "code",
   "execution_count": 62,
   "id": "c4709dfa",
   "metadata": {},
   "outputs": [],
   "source": [
    "random.shuffle(feature_sets)\n",
    "train_len = int(len(feature_sets) * 0.8)\n",
    "train_set, test_set = feature_sets[:train_len], feature_sets[train_len:]"
   ]
  },
  {
   "cell_type": "markdown",
   "id": "6b78c34c",
   "metadata": {},
   "source": [
    "## Training the Classifer and Outputting Accuracy\n",
    "Training the Naive Bayes Classifier and outputting the initial accuracies."
   ]
  },
  {
   "cell_type": "code",
   "execution_count": 63,
   "id": "3b4b7997",
   "metadata": {},
   "outputs": [
    {
     "name": "stdout",
     "output_type": "stream",
     "text": [
      "0.23983739837398374\n"
     ]
    }
   ],
   "source": [
    "classifier = nltk.NaiveBayesClassifier.train(train_set)\n",
    "print(nltk.classify.accuracy(classifier, test_set))"
   ]
  }
 ],
 "metadata": {
  "kernelspec": {
   "display_name": "Python 3",
   "language": "python",
   "name": "python3"
  },
  "language_info": {
   "codemirror_mode": {
    "name": "ipython",
    "version": 3
   },
   "file_extension": ".py",
   "mimetype": "text/x-python",
   "name": "python",
   "nbconvert_exporter": "python",
   "pygments_lexer": "ipython3",
   "version": "3.8.5"
  }
 },
 "nbformat": 4,
 "nbformat_minor": 5
}
