{
 "cells": [
  {
   "cell_type": "markdown",
   "id": "db9b0662",
   "metadata": {},
   "source": [
    "# CS 221 Project - Classifier\n",
    "Using the pertinent text features to make a pertinent Naive Bayes Classifier."
   ]
  },
  {
   "cell_type": "markdown",
   "id": "b0f22b42",
   "metadata": {},
   "source": [
    "## Libraries\n",
    "Using NLTK for NLP-related parts."
   ]
  },
  {
   "cell_type": "code",
   "execution_count": 10,
   "id": "49a57927",
   "metadata": {},
   "outputs": [],
   "source": [
    "import math\n",
    "import matplotlib.pyplot as plt\n",
    "import nltk\n",
    "import numpy as np\n",
    "import pandas as pd\n",
    "import random\n",
    "from sklearn.linear_model import LogisticRegression\n",
    "from nltk.classify.scikitlearn import SklearnClassifier"
   ]
  },
  {
   "cell_type": "markdown",
   "id": "b2ff58ff",
   "metadata": {},
   "source": [
    "## Loading in Data\n",
    "Using the data from `last_data.csv`, which is generated from `features.ipynb`."
   ]
  },
  {
   "cell_type": "code",
   "execution_count": 11,
   "id": "3bc3cd35",
   "metadata": {},
   "outputs": [],
   "source": [
    "main_df = pd.read_csv('../data/last_data.csv')"
   ]
  },
  {
   "cell_type": "markdown",
   "id": "67baffb2",
   "metadata": {},
   "source": [
    "## Generating Feature Vector\n",
    "Using lexical features extracted to produce feature vector for a corresponding TED talk."
   ]
  },
  {
   "cell_type": "code",
   "execution_count": 12,
   "id": "00d0f09e",
   "metadata": {},
   "outputs": [],
   "source": [
    "# List of features\n",
    "features = ['length','diversity','virality', 'noun_1','adjective_1','noun_2','adjective_2','noun_3','adjective_3']\n",
    "\n",
    "def new_ted_talk_features(data_point):\n",
    "    # Initialize dictionary of features\n",
    "    feature_dict = {}\n",
    "    \n",
    "    # Iterate through each of the features and set proper value\n",
    "    for i in range(len(features)):\n",
    "        if (i < 3):\n",
    "            value = float(data_point[features[i]])\n",
    "            if (math.isnan(value)):\n",
    "                feature_dict[features[i]] = 0\n",
    "            else:\n",
    "                feature_dict[features[i]] = float(data_point[features[i]])\n",
    "        else:\n",
    "            value = str(data_point[features[i]])\n",
    "            if value == 'nan' or value is None or len(value) < 1:\n",
    "                feature_dict[features[i]] = ''\n",
    "            else:\n",
    "                feature_dict[features[i]] = (data_point[features[i]])\n",
    "    return feature_dict"
   ]
  },
  {
   "cell_type": "markdown",
   "id": "5a264b95",
   "metadata": {},
   "source": [
    "## Creating Feature Sets\n",
    "Using above function to map the titles to features vectors to their labels."
   ]
  },
  {
   "cell_type": "code",
   "execution_count": 14,
   "id": "c48f91e2",
   "metadata": {},
   "outputs": [],
   "source": [
    "# Iterate through each class and load in the CSV\n",
    "for index, data_point in main_df.iterrows():\n",
    "    feature_dict = new_ted_talk_features(data_point)\n",
    "    feature_sets.append(((feature_dict), data_point[\"percentile\"]))"
   ]
  },
  {
   "cell_type": "markdown",
   "id": "187b926f",
   "metadata": {},
   "source": [
    "## Creating the Train and Test Sets\n",
    "Shuffling the dataset, setting the training set to $80$ percent of the data, and then set aside."
   ]
  },
  {
   "cell_type": "code",
   "execution_count": 15,
   "id": "ff58e25f",
   "metadata": {},
   "outputs": [],
   "source": [
    "random.shuffle(feature_sets)\n",
    "train_len = int(len(feature_sets) * 0.8)\n",
    "train_set, test_set = feature_sets[:train_len], feature_sets[train_len:]"
   ]
  },
  {
   "cell_type": "markdown",
   "id": "3d6d9a73",
   "metadata": {},
   "source": [
    "## Training the Classifer and Outputting Accuracy\n",
    "Training the Logistic Regression algorithm."
   ]
  },
  {
   "cell_type": "code",
   "execution_count": 16,
   "id": "20ef29ea",
   "metadata": {},
   "outputs": [
    {
     "name": "stderr",
     "output_type": "stream",
     "text": [
      "/Users/cpondoc/miniconda3/lib/python3.8/site-packages/sklearn/linear_model/_logistic.py:444: ConvergenceWarning: lbfgs failed to converge (status=1):\n",
      "STOP: TOTAL NO. of ITERATIONS REACHED LIMIT.\n",
      "\n",
      "Increase the number of iterations (max_iter) or scale the data as shown in:\n",
      "    https://scikit-learn.org/stable/modules/preprocessing.html\n",
      "Please also refer to the documentation for alternative solver options:\n",
      "    https://scikit-learn.org/stable/modules/linear_model.html#logistic-regression\n",
      "  n_iter_i = _check_optimize_result(\n"
     ]
    },
    {
     "data": {
      "text/plain": [
       "<SklearnClassifier(LogisticRegression(max_iter=300))>"
      ]
     },
     "execution_count": 16,
     "metadata": {},
     "output_type": "execute_result"
    }
   ],
   "source": [
    "classif = SklearnClassifier(LogisticRegression(max_iter=300))\n",
    "classif.train(train_set)"
   ]
  },
  {
   "cell_type": "markdown",
   "id": "fb6990fb",
   "metadata": {},
   "source": [
    "## Calculating Error of Algorithm\n",
    "Calculating the least squared error in order to validate performance."
   ]
  },
  {
   "cell_type": "code",
   "execution_count": 17,
   "id": "4300f1d5",
   "metadata": {},
   "outputs": [
    {
     "name": "stdout",
     "output_type": "stream",
     "text": [
      "0.19411657301048715\n",
      "0.1105510790801164\n"
     ]
    }
   ],
   "source": [
    "# Creating test set of data to pass into classifier\n",
    "test_features = []\n",
    "test_value = []\n",
    "for i in range(len(test_set)):\n",
    "    test_features.append(test_set[i][0])\n",
    "    test_value.append(test_set[i][1])\n",
    "final_preds = (classif.classify_many(test_features))\n",
    "\n",
    "# Calculating the error\n",
    "sum = 0\n",
    "baseSum = 0\n",
    "ignore = 0\n",
    "for i in range(len(test_value)):\n",
    "    if math.isnan(final_preds[i]):\n",
    "        ignore += 1\n",
    "    else:\n",
    "        sum += abs(final_preds[i] - test_value[i]) ** 2\n",
    "        baseSum += abs(final_preds[i] - .5) ** 2\n",
    "\n",
    "# Printing Final Error\n",
    "print(sum / (len(test_value) - ignore))\n",
    "print(baseSum / (len(test_value) - ignore))"
   ]
  },
  {
   "cell_type": "markdown",
   "id": "1bb17e5c",
   "metadata": {},
   "source": [
    "## Old Approach: Naive Bayes Classifier\n",
    "Code from our old approach, which is covered in \"Error Analysis.\""
   ]
  },
  {
   "cell_type": "code",
   "execution_count": 18,
   "id": "a4d63515",
   "metadata": {},
   "outputs": [
    {
     "name": "stdout",
     "output_type": "stream",
     "text": [
      "0.7965587044534413\n"
     ]
    }
   ],
   "source": [
    "classifier = nltk.NaiveBayesClassifier.train(train_set)\n",
    "print(nltk.classify.accuracy(classifier, test_set))"
   ]
  },
  {
   "cell_type": "markdown",
   "id": "e24c64fc",
   "metadata": {},
   "source": [
    "## Miscellaneous\n",
    "Other miscellany code."
   ]
  },
  {
   "cell_type": "code",
   "execution_count": 165,
   "id": "06155d62",
   "metadata": {},
   "outputs": [
    {
     "name": "stdout",
     "output_type": "stream",
     "text": [
      "176.31493506493499\n",
      "0.1607142857142857\n",
      "2\n"
     ]
    }
   ],
   "source": [
    "print(sum)\n",
    "print(final_preds[58])\n",
    "print(ignore)"
   ]
  }
 ],
 "metadata": {
  "interpreter": {
   "hash": "aee8b7b246df8f9039afb4144a1f6fd8d2ca17a180786b69acc140d282b71a49"
  },
  "kernelspec": {
   "display_name": "Python 3",
   "language": "python",
   "name": "python3"
  },
  "language_info": {
   "codemirror_mode": {
    "name": "ipython",
    "version": 3
   },
   "file_extension": ".py",
   "mimetype": "text/x-python",
   "name": "python",
   "nbconvert_exporter": "python",
   "pygments_lexer": "ipython3",
   "version": "3.8.5"
  }
 },
 "nbformat": 4,
 "nbformat_minor": 5
}
