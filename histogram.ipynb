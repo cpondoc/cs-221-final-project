{
 "cells": [
  {
   "cell_type": "markdown",
   "metadata": {},
   "source": [
    "# CS 221 Project - Finding Classification Values\n",
    "This notebook determines the classification ranges for different levels of virality."
   ]
  },
  {
   "cell_type": "markdown",
   "metadata": {},
   "source": [
    "## Libraries\n",
    "Using `pandas` for data analysis."
   ]
  },
  {
   "cell_type": "code",
   "execution_count": 2,
   "metadata": {},
   "outputs": [],
   "source": [
    "import pandas as pd\n",
    "import numpy as np"
   ]
  },
  {
   "cell_type": "markdown",
   "metadata": {},
   "source": [
    "## Reading in Data\n",
    "Looking at the data from the Kaggle dataset."
   ]
  },
  {
   "cell_type": "code",
   "execution_count": 3,
   "metadata": {},
   "outputs": [
    {
     "name": "stdout",
     "output_type": "stream",
     "text": [
      "<bound method NDFrame.head of       comments                                        description  duration  \\\n",
      "0         4553  Sir Ken Robinson makes an entertaining and pro...      1164   \n",
      "1          265  With the same humor and humanity he exuded in ...       977   \n",
      "2          124  New York Times columnist David Pogue takes aim...      1286   \n",
      "3          200  In an emotionally charged talk, MacArthur-winn...      1116   \n",
      "4          593  You've never seen data presented like this. Wi...      1190   \n",
      "...        ...                                                ...       ...   \n",
      "2545        17  Between 2008 and 2016, the United States depor...       476   \n",
      "2546         6  How can you study Mars without a spaceship? He...       290   \n",
      "2547        10  Science fiction visions of the future show us ...       651   \n",
      "2548        32  In an unmissable talk about race and politics ...      1100   \n",
      "2549         8  With more than half of the world population li...       519   \n",
      "\n",
      "             event   film_date  languages         main_speaker  \\\n",
      "0          TED2006  1140825600         60         Ken Robinson   \n",
      "1          TED2006  1140825600         43              Al Gore   \n",
      "2          TED2006  1140739200         26          David Pogue   \n",
      "3          TED2006  1140912000         35        Majora Carter   \n",
      "4          TED2006  1140566400         48         Hans Rosling   \n",
      "...            ...         ...        ...                  ...   \n",
      "2545       TED2017  1496707200          4     Duarte Geraldino   \n",
      "2546       TED2017  1492992000          3  Armando Azua-Bustos   \n",
      "2547       TED2017  1492992000          1       Radhika Nagpal   \n",
      "2548  TEDxMileHigh  1499472000          1     Theo E.J. Wilson   \n",
      "2549       TED2017  1492992000          1    Karoliina Korppoo   \n",
      "\n",
      "                                                   name  num_speaker  \\\n",
      "0             Ken Robinson: Do schools kill creativity?            1   \n",
      "1                  Al Gore: Averting the climate crisis            1   \n",
      "2                         David Pogue: Simplicity sells            1   \n",
      "3                    Majora Carter: Greening the ghetto            1   \n",
      "4         Hans Rosling: The best stats you've ever seen            1   \n",
      "...                                                 ...          ...   \n",
      "2545  Duarte Geraldino: What we're missing in the de...            1   \n",
      "2546  Armando Azua-Bustos: The most Martian place on...            1   \n",
      "2547  Radhika Nagpal: What intelligent machines can ...            1   \n",
      "2548  Theo E.J. Wilson: A black man goes undercover ...            1   \n",
      "2549  Karoliina Korppoo: How a video game might help...            1   \n",
      "\n",
      "      published_date                                            ratings  \\\n",
      "0         1151367060  [{'id': 7, 'name': 'Funny', 'count': 19645}, {...   \n",
      "1         1151367060  [{'id': 7, 'name': 'Funny', 'count': 544}, {'i...   \n",
      "2         1151367060  [{'id': 7, 'name': 'Funny', 'count': 964}, {'i...   \n",
      "3         1151367060  [{'id': 3, 'name': 'Courageous', 'count': 760}...   \n",
      "4         1151440680  [{'id': 9, 'name': 'Ingenious', 'count': 3202}...   \n",
      "...              ...                                                ...   \n",
      "2545      1505851216  [{'id': 3, 'name': 'Courageous', 'count': 24},...   \n",
      "2546      1505919737  [{'id': 22, 'name': 'Fascinating', 'count': 32...   \n",
      "2547      1506006095  [{'id': 1, 'name': 'Beautiful', 'count': 14}, ...   \n",
      "2548      1506024042  [{'id': 11, 'name': 'Longwinded', 'count': 3},...   \n",
      "2549      1506092422  [{'id': 21, 'name': 'Unconvincing', 'count': 2...   \n",
      "\n",
      "                                          related_talks  \\\n",
      "0     [{'id': 865, 'hero': 'https://pe.tedcdn.com/im...   \n",
      "1     [{'id': 243, 'hero': 'https://pe.tedcdn.com/im...   \n",
      "2     [{'id': 1725, 'hero': 'https://pe.tedcdn.com/i...   \n",
      "3     [{'id': 1041, 'hero': 'https://pe.tedcdn.com/i...   \n",
      "4     [{'id': 2056, 'hero': 'https://pe.tedcdn.com/i...   \n",
      "...                                                 ...   \n",
      "2545  [{'id': 2596, 'hero': 'https://pe.tedcdn.com/i...   \n",
      "2546  [{'id': 2491, 'hero': 'https://pe.tedcdn.com/i...   \n",
      "2547  [{'id': 2346, 'hero': 'https://pe.tedcdn.com/i...   \n",
      "2548  [{'id': 2512, 'hero': 'https://pe.tedcdn.com/i...   \n",
      "2549  [{'id': 2682, 'hero': 'https://pe.tedcdn.com/i...   \n",
      "\n",
      "                        speaker_occupation  \\\n",
      "0                          Author/educator   \n",
      "1                         Climate advocate   \n",
      "2                     Technology columnist   \n",
      "3       Activist for environmental justice   \n",
      "4     Global health expert; data visionary   \n",
      "...                                    ...   \n",
      "2545                            Journalist   \n",
      "2546                        Astrobiologist   \n",
      "2547                     Robotics engineer   \n",
      "2548                   Public intellectual   \n",
      "2549                         Game designer   \n",
      "\n",
      "                                                   tags  \\\n",
      "0     ['children', 'creativity', 'culture', 'dance',...   \n",
      "1     ['alternative energy', 'cars', 'climate change...   \n",
      "2     ['computers', 'entertainment', 'interface desi...   \n",
      "3     ['MacArthur grant', 'activism', 'business', 'c...   \n",
      "4     ['Africa', 'Asia', 'Google', 'demo', 'economic...   \n",
      "...                                                 ...   \n",
      "2545  ['TED Residency', 'United States', 'community'...   \n",
      "2546  ['Mars', 'South America', 'TED Fellows', 'astr...   \n",
      "2547  ['AI', 'ants', 'fish', 'future', 'innovation',...   \n",
      "2548  ['Internet', 'TEDx', 'United States', 'communi...   \n",
      "2549  ['cities', 'design', 'future', 'infrastructure...   \n",
      "\n",
      "                                                  title  \\\n",
      "0                           Do schools kill creativity?   \n",
      "1                           Averting the climate crisis   \n",
      "2                                      Simplicity sells   \n",
      "3                                   Greening the ghetto   \n",
      "4                       The best stats you've ever seen   \n",
      "...                                                 ...   \n",
      "2545  What we're missing in the debate about immigra...   \n",
      "2546                    The most Martian place on Earth   \n",
      "2547  What intelligent machines can learn from a sch...   \n",
      "2548       A black man goes undercover in the alt-right   \n",
      "2549  How a video game might help us build better ci...   \n",
      "\n",
      "                                                    url     views  \n",
      "0     https://www.ted.com/talks/ken_robinson_says_sc...  47227110  \n",
      "1     https://www.ted.com/talks/al_gore_on_averting_...   3200520  \n",
      "2     https://www.ted.com/talks/david_pogue_says_sim...   1636292  \n",
      "3     https://www.ted.com/talks/majora_carter_s_tale...   1697550  \n",
      "4     https://www.ted.com/talks/hans_rosling_shows_t...  12005869  \n",
      "...                                                 ...       ...  \n",
      "2545  https://www.ted.com/talks/duarte_geraldino_wha...    450430  \n",
      "2546  https://www.ted.com/talks/armando_azua_bustos_...    417470  \n",
      "2547  https://www.ted.com/talks/radhika_nagpal_what_...    375647  \n",
      "2548  https://www.ted.com/talks/theo_e_j_wilson_a_bl...    419309  \n",
      "2549  https://www.ted.com/talks/karoliina_korppoo_ho...    391721  \n",
      "\n",
      "[2550 rows x 17 columns]>\n"
     ]
    }
   ],
   "source": [
    "# Loading in the data\n",
    "df = pd.read_csv('data/ted_main.csv')\n",
    "print(df.head)"
   ]
  }
 ],
 "metadata": {
  "interpreter": {
   "hash": "b6de2fea83f7e9761113f782b5a591de01746b375589126cb2b6f84106b01cb6"
  },
  "kernelspec": {
   "display_name": "Python 3.8.5 ('base')",
   "language": "python",
   "name": "python3"
  },
  "language_info": {
   "codemirror_mode": {
    "name": "ipython",
    "version": 3
   },
   "file_extension": ".py",
   "mimetype": "text/x-python",
   "name": "python",
   "nbconvert_exporter": "python",
   "pygments_lexer": "ipython3",
   "version": "3.8.5"
  },
  "orig_nbformat": 4
 },
 "nbformat": 4,
 "nbformat_minor": 2
}
